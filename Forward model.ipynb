{
 "cells": [
  {
   "cell_type": "code",
   "execution_count": 2,
   "id": "48595997-9cae-43b9-94d5-319c6ee5d4c2",
   "metadata": {},
   "outputs": [],
   "source": [
    "import numpy as np\n",
    "import matplotlib as mpl\n",
    "import matplotlib.pyplot as plt\n",
    "import pandas as pd"
   ]
  },
  {
   "cell_type": "code",
   "execution_count": 17,
   "id": "8756b9d3-c55d-4d15-86a8-9e14bf4d30e9",
   "metadata": {},
   "outputs": [
    {
     "data": {
      "text/html": [
       "<div>\n",
       "<style scoped>\n",
       "    .dataframe tbody tr th:only-of-type {\n",
       "        vertical-align: middle;\n",
       "    }\n",
       "\n",
       "    .dataframe tbody tr th {\n",
       "        vertical-align: top;\n",
       "    }\n",
       "\n",
       "    .dataframe thead th {\n",
       "        text-align: right;\n",
       "    }\n",
       "</style>\n",
       "<table border=\"1\" class=\"dataframe\">\n",
       "  <thead>\n",
       "    <tr style=\"text-align: right;\">\n",
       "      <th></th>\n",
       "      <th>P</th>\n",
       "      <th>Q</th>\n",
       "      <th>EP</th>\n",
       "    </tr>\n",
       "  </thead>\n",
       "  <tbody>\n",
       "    <tr>\n",
       "      <th>1997-08-01</th>\n",
       "      <td>8.888</td>\n",
       "      <td>0.388</td>\n",
       "      <td>1.715079</td>\n",
       "    </tr>\n",
       "    <tr>\n",
       "      <th>1997-08-02</th>\n",
       "      <td>0.265</td>\n",
       "      <td>0.517</td>\n",
       "      <td>3.779446</td>\n",
       "    </tr>\n",
       "    <tr>\n",
       "      <th>1997-08-03</th>\n",
       "      <td>1.034</td>\n",
       "      <td>0.543</td>\n",
       "      <td>2.157360</td>\n",
       "    </tr>\n",
       "    <tr>\n",
       "      <th>1997-08-04</th>\n",
       "      <td>0.000</td>\n",
       "      <td>0.448</td>\n",
       "      <td>4.788141</td>\n",
       "    </tr>\n",
       "    <tr>\n",
       "      <th>1997-08-05</th>\n",
       "      <td>0.000</td>\n",
       "      <td>0.428</td>\n",
       "      <td>4.964434</td>\n",
       "    </tr>\n",
       "  </tbody>\n",
       "</table>\n",
       "</div>"
      ],
      "text/plain": [
       "                P      Q        EP\n",
       "1997-08-01  8.888  0.388  1.715079\n",
       "1997-08-02  0.265  0.517  3.779446\n",
       "1997-08-03  1.034  0.543  2.157360\n",
       "1997-08-04  0.000  0.448  4.788141\n",
       "1997-08-05  0.000  0.428  4.964434"
      ]
     },
     "execution_count": 17,
     "metadata": {},
     "output_type": "execute_result"
    }
   ],
   "source": [
    "df = pd.read_csv(\"Forcing.txt\", delimiter=\"\t\", names=[\"year\",\"month\",\"day\",\"P\",\"Q\",\"EP\"])\n",
    "df.index = df.apply(lambda x: pd.Timestamp(f'{int(x.year)}-{int(x.month)}-{int(x.day)}'),axis=1)\n",
    "df.drop(columns=[\"year\",\"month\",\"day\"],inplace=True)\n",
    "df.head()"
   ]
  },
  {
   "cell_type": "code",
   "execution_count": 21,
   "id": "94583604-8b76-4db9-978a-209213a24307",
   "metadata": {},
   "outputs": [],
   "source": [
    "# specifiy number of particles\n",
    "n_particles = 10"
   ]
  },
  {
   "cell_type": "code",
   "execution_count": 43,
   "id": "0fe9503b-89c3-4dd2-ab1d-fcec9cdf40fb",
   "metadata": {},
   "outputs": [],
   "source": [
    "# set up storage terms \n",
    "# allocate Si, Su, Sf, Ss, Eidt, Eadt, Qtotdt\n",
    "t_max = len(df)\n",
    "\n",
    "storage_memory = []\n",
    "# could be more ellegant with numpy but lets just start with 10 lists of 10 arrays\n",
    "for i in range(n_particles):\n",
    "    Si        = np.zeros(t_max) # Interception storage\n",
    "    Su        = np.zeros(t_max) # Unsaturated Rootzone Storage\n",
    "    Sf        = np.zeros(t_max) # Fastflow storage\n",
    "    Ss        = np.zeros(t_max) # Groundwater storage\n",
    "    Ei_dt     = np.zeros(t_max) # interception evaporation\n",
    "    Ea_dt     = np.zeros(t_max) # actual evaportation\n",
    "    Qs_dt_lst = np.zeros(t_max) # list of slow flow \n",
    "    Qf_dt_lst = np.zeros(t_max) # list of fast flow\n",
    "    Q_tot_dt  = np.zeros(t_max) # total flow\n",
    "    storage_memory.append([Si, Su, Sf, Ss, Ei_dt, Ea_dt, Qs_dt_lst, Qf_dt_lst, Q_tot_dt])\n"
   ]
  },
  {
   "cell_type": "code",
   "execution_count": 44,
   "id": "e38bd33b-00dc-43a5-8955-1bc6ddaf836e",
   "metadata": {},
   "outputs": [],
   "source": [
    "## Array of parameters min/max bounds\n",
    "##                      Imax,  Ce,  Sumax, beta,  Pmax,  Tlag,   Kf,   Ks\n",
    "p_min_initial= np.array([0,   0.2,  40,    .5,   .001,   0,     .01,  .0001])\n",
    "p_max_initial = np.array([8,    1,  800,   4,    .3,     10,    .1,   .01])\n",
    "\n",
    "## Array of initial storage terms - we keep these constant for now \n",
    "##              Si,  Su, Sf, Ss\n",
    "s_in = np.array([0,  100,  0,  5  ])"
   ]
  },
  {
   "cell_type": "markdown",
   "id": "59daf718-bd4f-4194-a0ee-9bec6dddfd44",
   "metadata": {},
   "source": [
    "Note notation 3 is used with p for parameters <br>\n",
    "<img src=\"figures\\Lecture1A_slide26_notation.png\" alt=\"Lecture1A_slide26_notation\" style=\"height: 300px\"/>"
   ]
  },
  {
   "cell_type": "code",
   "execution_count": 45,
   "id": "43686892-7e70-4995-8530-524dece376ca",
   "metadata": {},
   "outputs": [],
   "source": [
    "# for initial run sample a set of parameters - start with simpel linear random:  min+[0,1] * (max-min) -> easily changes after\n",
    "array_random_num = np.array([[np.random.random() for i in range(len(p_max_initial))] for i in range(n_particles)])\n",
    "p_intial = p_min_initial + array_random_num * (p_max_initial-p_min_initial)"
   ]
  },
  {
   "cell_type": "code",
   "execution_count": 46,
   "id": "eb549caf-8d42-49af-afea-e76149e7649a",
   "metadata": {},
   "outputs": [
    {
     "data": {
      "text/plain": [
       "(array([8.82708734e-01, 8.52714659e-01, 6.43734946e+02, 5.56118365e-01,\n",
       "        1.12354901e-01, 5.38085627e+00, 4.66218577e-02, 5.80197002e-03]),\n",
       " array([3.04103955e+00, 4.58651758e-01, 2.02355814e+02, 3.53228521e+00,\n",
       "        2.35809550e-01, 1.18171400e+00, 7.22928520e-02, 7.83227715e-03]))"
      ]
     },
     "execution_count": 46,
     "metadata": {},
     "output_type": "execute_result"
    }
   ],
   "source": [
    "# inital value array for every particle\n",
    "p_intial[0],p_intial[1]"
   ]
  },
  {
   "cell_type": "code",
   "execution_count": 53,
   "id": "fd01d022-90c1-4f7d-b338-136403bb95a5",
   "metadata": {},
   "outputs": [
    {
     "data": {
      "text/plain": [
       "(array([0.88270873, 0.88270873, 0.        , ..., 0.        , 0.        ,\n",
       "        0.        ]),\n",
       " array([104.81631088, 104.81631088,   0.        , ...,   0.        ,\n",
       "          0.        ,   0.        ]),\n",
       " array([2.70960177, 2.70960177, 0.        , ..., 0.        , 0.        ,\n",
       "        0.        ]),\n",
       " array([4.9891814, 4.9891814, 0.       , ..., 0.       , 0.       ,\n",
       "        0.       ]),\n",
       " array([0., 0., 0., ..., 0., 0., 0.]),\n",
       " array([0.32857695, 0.        , 0.        , ..., 0.        , 0.        ,\n",
       "        0.        ]),\n",
       " array([0.02911601, 0.        , 0.        , ..., 0.        , 0.        ,\n",
       "        0.        ]),\n",
       " array([0.13250426, 0.        , 0.        , ..., 0.        , 0.        ,\n",
       "        0.        ]),\n",
       " array([0.16162027, 0.        , 0.        , ..., 0.        , 0.        ,\n",
       "        0.        ]))"
      ]
     },
     "execution_count": 53,
     "metadata": {},
     "output_type": "execute_result"
    }
   ],
   "source": [
    "particle_n = 0\n",
    "step_n = 0\n",
    "HBVMod_forward(p_intial[0], df, s_in, storage_memory[particle_n], step_n)"
   ]
  },
  {
   "cell_type": "code",
   "execution_count": 52,
   "id": "bd42bb02-1e18-43c9-bf6d-cb0ae1394de3",
   "metadata": {},
   "outputs": [],
   "source": [
    "def HBVMod_forward(par, df, s_in, memory_terms, step_n):\n",
    "    \"\"\"\n",
    "    Function to run the forward part of one timestep of the HBV model     \n",
    "    parameters\n",
    "    ----------\n",
    "    par: array_like\n",
    "        array/list containing 8 parameters: Imax,  Ce,  Sumax, beta,  Pmax,  Tlag,   Kf,   Ks (floats)\n",
    "    df: pandas.core.frame.DataFrame\n",
    "        DataFrame containing 'P', 'Q', 'EP' columns as forcing for the model.\n",
    "    s_in: array_like\n",
    "        array/list containing 4 storage terms which are input to the timestep: Si,  Su, Sf, Ss (floats)\n",
    "    memory_terms: list of arrays\n",
    "        list of arrays which store: Si, Su, Sf, Ss, Ei_dt, Ea_dt, Qs_dt_lst, Qf_dt_lst, Q_tot_dt\n",
    "    step_n: int\n",
    "        nth step which formard model takes: used to determin which Precipitaion & evaporation to use\n",
    "\n",
    "    Returns\n",
    "    ----------\n",
    "    Obj, df: float, pandas.core.frame.DataFrame\n",
    "        return of the objective function and corresponding dataframe\n",
    "\n",
    "    \"\"\"\n",
    "    #HBVpareto Calculates values of 3 objective functions for HBV model\n",
    "    \n",
    "    # define parameters \n",
    "    I_max  = par[0]   # maximum interception\n",
    "    Ce     = par[1]   # Ea = Su / (sumax * Ce) * Ep\n",
    "    Su_max = par[2]   # ''\n",
    "    beta   = par[3]   # Cr = (su/sumax)**beta\n",
    "    P_max  = par[4]   # Qus = Pmax * (Su/Sumax)\n",
    "    T_lag  = par[5]   # used in triangular transfer function\n",
    "    Kf     = par[6]   # Qf=kf*sf\n",
    "    Ks     = par[7]   # Qs=Ks*Ss\n",
    "    \n",
    "    # precipitation is given by the first column, Q0 by the second and  \n",
    "    # Precipitaion & evaporation are inputs\n",
    "    Prec   = df.P.iloc[step_n]\n",
    "    Etp    = df.EP.iloc[step_n]\n",
    "    \n",
    "    # For now skip evap\n",
    "    # Qo     = df.Q.values\n",
    "    \n",
    "    # initialize the storage coefficients Si, Su, Sf, Ss\n",
    "    Si[0] = s_in[0]\n",
    "    Su[0] = s_in[1]\n",
    "    Sf[0] = s_in[2]\n",
    "    Ss[0] = s_in[3]\n",
    "\n",
    "    # time step of one day\n",
    "    dt = 1\n",
    "\n",
    "    i = step_n # maybe refactor later but useful for now\n",
    "    \n",
    "    \n",
    "    P_dt  = Prec * dt\n",
    "    Ep_dt = Etp  * dt\n",
    "\n",
    "    # Interception Reservoir\n",
    "    if P_dt > 0:\n",
    "        # if there is rain, no evap\n",
    "        Si[i]    = Si[i] + P_dt               # increase the storage\n",
    "        Pe_dt    = max((Si[i] - I_max) / dt, 0)\n",
    "        Si[i]    = Si[i] - Pe_dt \n",
    "        Ei_dt[i] = 0                          # if rainfall, evaporation = 0 as too moist \n",
    "    else:\n",
    "        # Evaporation only when there is no rainfall\n",
    "        Pe_dt    = 0                      # nothing flows in so must be 0\n",
    "        Ei_dt[i] = min(Ep_dt, Si[i] / dt) # evaporation limited by storage\n",
    "        Si[i]    = Si[i] - Ei_dt[i] \n",
    "\n",
    "    # if not the end, initialise the next storage\n",
    "    if i < t_max - 1:\n",
    "        Si[i+1] = Si[i]\n",
    "\n",
    "\n",
    "    # split flow into Unsaturated Reservoir and Fast flow\n",
    "    if Pe_dt > 0:\n",
    "        cr     = (Su[i] / Su_max)**beta\n",
    "        Qiu_dt = (1 - cr ) * Pe_dt      # flux from Ir to Ur\n",
    "        Su[i]  = Su[i] + Qiu_dt\n",
    "        Quf_dt = cr  * Pe_dt            # flux from Su to Sf\n",
    "    else:\n",
    "        Quf_dt=0\n",
    "\n",
    "    # Transpiration\n",
    "    Ep_dt    = max(0, Ep_dt - Ei_dt[i])        # Transpiration \n",
    "    Ea_dt[i] = Ep_dt  * (Su[i] / (Su_max * Ce))\n",
    "    Ea_dt[i] = min(Su[i], Ea_dt[i])            # limited by water in soil \n",
    "    Su[i]    = Su[i] - Ea_dt[i]\n",
    "\n",
    "    # Percolation\n",
    "    Qus_dt = P_max * (Su[i] / Su_max) * dt # Flux from Su to Ss\n",
    "    Su[i]  = Su[i] - Qus_dt\n",
    "\n",
    "    # make the final steps to update next step\n",
    "    if i < t_max - 1:\n",
    "        Su[i+1]=Su[i]\n",
    "\n",
    "    # Fast Reservoir\n",
    "    Sf[i] = Sf[i] + Quf_dt\n",
    "    Qf_dt = dt * Kf * Sf[i]\n",
    "    Sf[i] = Sf[i] - Qf_dt\n",
    "    if i < t_max -  1:\n",
    "        Sf[i+1] = Sf[i]\n",
    "\n",
    "    # Slow Reservoir\n",
    "    Ss[i] = Ss[i] + Qus_dt\n",
    "    Qs_dt = Ss[i] * Ks * dt\n",
    "    Ss[i] = Ss[i] - Qs_dt\n",
    "    if i < t_max-1:\n",
    "        Ss[i+1] = Ss[i]\n",
    "\n",
    "    Q_tot_dt[i] = Qs_dt + Qf_dt\n",
    "    Qs_dt_lst[i] = Qs_dt\n",
    "    Qf_dt_lst[i] = Qf_dt\n",
    "       \n",
    "    memory_terms = Si, Su, Sf, Ss, Ei_dt, Ea_dt, Qs_dt_lst, Qf_dt_lst, Q_tot_dt\n",
    "    return memory_terms"
   ]
  },
  {
   "cell_type": "code",
   "execution_count": 54,
   "id": "903e1570-1bc3-4e3e-b6be-bd459b96dd3d",
   "metadata": {},
   "outputs": [],
   "source": [
    "# # 'normally' post processing steps after whole run \n",
    "\n",
    "# # Check Water Balance\n",
    "# Sf  = Si[-1] + Ss[-1] + Sf[-1] + Su[-1] # final storage\n",
    "# s_in = sum(s_in)                          # initial storage\n",
    "# WB  = sum(Prec) - sum(Ei_dt)- sum(Ea_dt) - sum(Q_tot_dt) + s_in - Sf\n",
    "\n",
    "\n",
    "# # Offset Q\n",
    "# Weigths = Weigfun(T_lag)\n",
    "\n",
    "# Qm = np.convolve(Q_tot_dt, Weigths)\n",
    "# Qm = Qm[0:t_max]\n",
    "\n",
    "# Qs_dt_lst = np.convolve(Qs_dt_lst, Weigths)\n",
    "# Qs_dt_lst = Qs_dt_lst[0:t_max]\n",
    "\n",
    "# Qf_dt_lst = np.convolve(Qf_dt_lst, Weigths)\n",
    "# Qf_dt_lst = Qf_dt_lst[0:t_max]"
   ]
  },
  {
   "cell_type": "code",
   "execution_count": null,
   "id": "427dc168-e291-49c2-ad09-8636841dc4b2",
   "metadata": {},
   "outputs": [],
   "source": []
  }
 ],
 "metadata": {
  "kernelspec": {
   "display_name": "Python 3 (ipykernel)",
   "language": "python",
   "name": "python3"
  },
  "language_info": {
   "codemirror_mode": {
    "name": "ipython",
    "version": 3
   },
   "file_extension": ".py",
   "mimetype": "text/x-python",
   "name": "python",
   "nbconvert_exporter": "python",
   "pygments_lexer": "ipython3",
   "version": "3.10.9"
  }
 },
 "nbformat": 4,
 "nbformat_minor": 5
}
